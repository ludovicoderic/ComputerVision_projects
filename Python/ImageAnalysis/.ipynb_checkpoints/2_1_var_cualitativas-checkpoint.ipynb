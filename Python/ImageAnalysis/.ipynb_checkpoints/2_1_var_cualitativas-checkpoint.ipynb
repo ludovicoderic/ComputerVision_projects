{
 "cells": [
  {
   "cell_type": "code",
   "execution_count": 1,
   "metadata": {},
   "outputs": [],
   "source": [
    "# Creación aleatoria de datos\n",
    "import numpy as np\n",
    "import random\n",
    "random.seed(42)"
   ]
  },
  {
   "cell_type": "code",
   "execution_count": 2,
   "metadata": {},
   "outputs": [],
   "source": [
    "nivel_estudios = []\n",
    "nivel_estudios.extend(['Secundaria']*110)\n",
    "nivel_estudios.extend(['Bachillerato']*172)\n",
    "nivel_estudios.extend(['Grado']*145)\n",
    "nivel_estudios.extend(['Master']*52)\n",
    "nivel_estudios.extend(['Doctorado']*21)\n",
    "\n",
    "nivel_estudios = np.random.permutation(nivel_estudios)"
   ]
  },
  {
   "cell_type": "code",
   "execution_count": 3,
   "metadata": {},
   "outputs": [
    {
     "name": "stdout",
     "output_type": "stream",
     "text": [
      "['Grado' 'Bachillerato' 'Grado' 'Bachillerato' 'Master' 'Master'\n",
      " 'Bachillerato' 'Grado' 'Bachillerato' 'Secundaria' 'Doctorado' 'Grado'\n",
      " 'Secundaria' 'Bachillerato' 'Bachillerato' 'Doctorado' 'Grado' 'Grado'\n",
      " 'Secundaria' 'Bachillerato' 'Secundaria' 'Master' 'Master' 'Grado'\n",
      " 'Master' 'Secundaria' 'Master' 'Bachillerato' 'Bachillerato' 'Grado'\n",
      " 'Bachillerato' 'Secundaria' 'Secundaria' 'Grado' 'Grado' 'Grado'\n",
      " 'Secundaria' 'Secundaria' 'Bachillerato' 'Grado' 'Grado' 'Secundaria'\n",
      " 'Secundaria' 'Bachillerato' 'Bachillerato' 'Grado' 'Secundaria' 'Grado'\n",
      " 'Secundaria' 'Grado' 'Secundaria' 'Grado' 'Bachillerato' 'Secundaria'\n",
      " 'Bachillerato' 'Bachillerato' 'Grado' 'Grado' 'Master' 'Grado'\n",
      " 'Secundaria' 'Bachillerato' 'Grado' 'Doctorado' 'Grado' 'Grado'\n",
      " 'Bachillerato' 'Bachillerato' 'Bachillerato' 'Secundaria' 'Secundaria'\n",
      " 'Secundaria' 'Bachillerato' 'Bachillerato' 'Secundaria' 'Bachillerato'\n",
      " 'Secundaria' 'Grado' 'Master' 'Grado' 'Secundaria' 'Grado' 'Grado'\n",
      " 'Bachillerato' 'Grado' 'Secundaria' 'Master' 'Doctorado' 'Master'\n",
      " 'Master' 'Secundaria' 'Bachillerato' 'Grado' 'Bachillerato'\n",
      " 'Bachillerato' 'Bachillerato' 'Grado' 'Grado' 'Bachillerato' 'Secundaria'\n",
      " 'Bachillerato' 'Bachillerato' 'Doctorado' 'Master' 'Grado' 'Bachillerato'\n",
      " 'Bachillerato' 'Bachillerato' 'Doctorado' 'Bachillerato' 'Grado' 'Master'\n",
      " 'Grado' 'Grado' 'Secundaria' 'Master' 'Bachillerato' 'Bachillerato'\n",
      " 'Grado' 'Secundaria' 'Grado' 'Secundaria' 'Grado' 'Bachillerato'\n",
      " 'Secundaria' 'Secundaria' 'Bachillerato' 'Bachillerato' 'Secundaria'\n",
      " 'Grado' 'Bachillerato' 'Secundaria' 'Grado' 'Secundaria' 'Bachillerato'\n",
      " 'Master' 'Grado' 'Bachillerato' 'Secundaria' 'Bachillerato' 'Secundaria'\n",
      " 'Master' 'Grado' 'Master' 'Grado' 'Secundaria' 'Bachillerato'\n",
      " 'Secundaria' 'Grado' 'Bachillerato' 'Bachillerato' 'Grado' 'Bachillerato'\n",
      " 'Grado' 'Grado' 'Doctorado' 'Secundaria' 'Secundaria' 'Bachillerato'\n",
      " 'Bachillerato' 'Secundaria' 'Grado' 'Bachillerato' 'Master' 'Secundaria'\n",
      " 'Bachillerato' 'Bachillerato' 'Bachillerato' 'Grado' 'Secundaria'\n",
      " 'Secundaria' 'Secundaria' 'Master' 'Bachillerato' 'Bachillerato'\n",
      " 'Bachillerato' 'Master' 'Grado' 'Bachillerato' 'Master' 'Bachillerato'\n",
      " 'Grado' 'Bachillerato' 'Bachillerato' 'Grado' 'Secundaria' 'Bachillerato'\n",
      " 'Secundaria' 'Bachillerato' 'Grado' 'Bachillerato' 'Bachillerato' 'Grado'\n",
      " 'Grado' 'Secundaria' 'Master' 'Grado' 'Secundaria' 'Secundaria' 'Grado'\n",
      " 'Master' 'Bachillerato' 'Secundaria' 'Secundaria' 'Bachillerato'\n",
      " 'Secundaria' 'Secundaria' 'Bachillerato' 'Bachillerato' 'Doctorado'\n",
      " 'Grado' 'Bachillerato' 'Bachillerato' 'Bachillerato' 'Bachillerato'\n",
      " 'Bachillerato' 'Master' 'Bachillerato' 'Secundaria' 'Grado' 'Grado'\n",
      " 'Master' 'Grado' 'Doctorado' 'Bachillerato' 'Secundaria' 'Bachillerato'\n",
      " 'Secundaria' 'Secundaria' 'Bachillerato' 'Grado' 'Bachillerato'\n",
      " 'Bachillerato' 'Bachillerato' 'Secundaria' 'Bachillerato' 'Secundaria'\n",
      " 'Grado' 'Master' 'Secundaria' 'Secundaria' 'Secundaria' 'Secundaria'\n",
      " 'Grado' 'Master' 'Grado' 'Bachillerato' 'Bachillerato' 'Secundaria'\n",
      " 'Doctorado' 'Secundaria' 'Bachillerato' 'Bachillerato' 'Doctorado'\n",
      " 'Grado' 'Grado' 'Secundaria' 'Master' 'Grado' 'Doctorado' 'Doctorado'\n",
      " 'Master' 'Grado' 'Grado' 'Bachillerato' 'Grado' 'Grado' 'Bachillerato'\n",
      " 'Grado' 'Secundaria' 'Secundaria' 'Grado' 'Bachillerato' 'Bachillerato'\n",
      " 'Grado' 'Bachillerato' 'Grado' 'Bachillerato' 'Bachillerato'\n",
      " 'Bachillerato' 'Grado' 'Secundaria' 'Bachillerato' 'Bachillerato'\n",
      " 'Bachillerato' 'Secundaria' 'Bachillerato' 'Bachillerato' 'Secundaria'\n",
      " 'Secundaria' 'Bachillerato' 'Master' 'Grado' 'Grado' 'Grado' 'Secundaria'\n",
      " 'Grado' 'Bachillerato' 'Bachillerato' 'Bachillerato' 'Secundaria'\n",
      " 'Secundaria' 'Grado' 'Grado' 'Bachillerato' 'Bachillerato' 'Master'\n",
      " 'Bachillerato' 'Grado' 'Secundaria' 'Grado' 'Secundaria' 'Master'\n",
      " 'Bachillerato' 'Grado' 'Bachillerato' 'Bachillerato' 'Master' 'Grado'\n",
      " 'Grado' 'Secundaria' 'Bachillerato' 'Grado' 'Secundaria' 'Secundaria'\n",
      " 'Bachillerato' 'Master' 'Bachillerato' 'Bachillerato' 'Grado' 'Master'\n",
      " 'Grado' 'Bachillerato' 'Bachillerato' 'Bachillerato' 'Bachillerato'\n",
      " 'Bachillerato' 'Grado' 'Bachillerato' 'Master' 'Secundaria' 'Secundaria'\n",
      " 'Grado' 'Bachillerato' 'Bachillerato' 'Secundaria' 'Bachillerato'\n",
      " 'Master' 'Grado' 'Bachillerato' 'Secundaria' 'Master' 'Doctorado'\n",
      " 'Secundaria' 'Secundaria' 'Secundaria' 'Doctorado' 'Secundaria'\n",
      " 'Bachillerato' 'Secundaria' 'Secundaria' 'Grado' 'Bachillerato'\n",
      " 'Secundaria' 'Grado' 'Doctorado' 'Grado' 'Bachillerato' 'Grado' 'Grado'\n",
      " 'Secundaria' 'Bachillerato' 'Grado' 'Master' 'Bachillerato'\n",
      " 'Bachillerato' 'Doctorado' 'Grado' 'Bachillerato' 'Grado' 'Bachillerato'\n",
      " 'Secundaria' 'Bachillerato' 'Secundaria' 'Secundaria' 'Grado'\n",
      " 'Bachillerato' 'Bachillerato' 'Grado' 'Grado' 'Secundaria' 'Secundaria'\n",
      " 'Grado' 'Grado' 'Bachillerato' 'Grado' 'Master' 'Bachillerato'\n",
      " 'Bachillerato' 'Bachillerato' 'Bachillerato' 'Grado' 'Master'\n",
      " 'Bachillerato' 'Grado' 'Bachillerato' 'Grado' 'Grado' 'Grado'\n",
      " 'Bachillerato' 'Secundaria' 'Bachillerato' 'Bachillerato' 'Bachillerato'\n",
      " 'Doctorado' 'Doctorado' 'Master' 'Bachillerato' 'Bachillerato' 'Grado'\n",
      " 'Master' 'Bachillerato' 'Master' 'Secundaria' 'Bachillerato' 'Grado'\n",
      " 'Secundaria' 'Grado' 'Grado' 'Grado' 'Grado' 'Bachillerato' 'Grado'\n",
      " 'Master' 'Bachillerato' 'Grado' 'Bachillerato' 'Grado' 'Bachillerato'\n",
      " 'Bachillerato' 'Grado' 'Grado' 'Grado' 'Bachillerato' 'Secundaria'\n",
      " 'Bachillerato' 'Bachillerato' 'Bachillerato' 'Bachillerato'\n",
      " 'Bachillerato' 'Grado' 'Grado' 'Bachillerato' 'Grado' 'Secundaria'\n",
      " 'Master' 'Secundaria' 'Grado' 'Master' 'Grado' 'Doctorado' 'Bachillerato'\n",
      " 'Grado' 'Bachillerato' 'Grado' 'Bachillerato' 'Grado' 'Master' 'Grado'\n",
      " 'Secundaria' 'Bachillerato' 'Master' 'Secundaria' 'Secundaria' 'Grado'\n",
      " 'Grado' 'Grado' 'Secundaria' 'Bachillerato' 'Secundaria' 'Grado'\n",
      " 'Secundaria' 'Doctorado' 'Grado' 'Bachillerato' 'Grado' 'Grado'\n",
      " 'Bachillerato' 'Grado' 'Bachillerato' 'Bachillerato' 'Secundaria'\n",
      " 'Master' 'Master' 'Bachillerato' 'Grado' 'Master' 'Grado' 'Grado'\n",
      " 'Bachillerato']\n"
     ]
    }
   ],
   "source": [
    "print(nivel_estudios)"
   ]
  },
  {
   "cell_type": "code",
   "execution_count": 4,
   "metadata": {},
   "outputs": [
    {
     "name": "stdout",
     "output_type": "stream",
     "text": [
      "['Bachillerato' 'Doctorado' 'Grado' 'Master' 'Secundaria'] [172  21 145  52 110]\n"
     ]
    }
   ],
   "source": [
    "# DIAGRAMA DE BARRAS\n",
    "import matplotlib.pyplot as plt\n",
    "import numpy as np\n",
    "\n",
    "estudios, frecuencia = np.unique(nivel_estudios, return_counts=True)\n",
    "print(estudios, frecuencia)"
   ]
  },
  {
   "cell_type": "code",
   "execution_count": 5,
   "metadata": {},
   "outputs": [
    {
     "data": {
      "image/png": "[encoded data removed]",
      "text/plain": [
       "<Figure size 432x288 with 1 Axes>"
      ]
     },
     "metadata": {
      "needs_background": "light"
     },
     "output_type": "display_data"
    }
   ],
   "source": [
    "plt.ylabel('Frecuencia absoluta')\n",
    "plt.xlabel('Nivel de estudios')\n",
    "plt.title('Diagrama de barras')\n",
    "plt.bar(estudios, frecuencia, color='orange', edgecolor='blue', linewidth=4) \n",
    "\n",
    "plt.grid()\n",
    "plt.show()"
   ]
  },
  {
   "cell_type": "code",
   "execution_count": 6,
   "metadata": {},
   "outputs": [
    {
     "data": {
      "image/png": "[encoded data removed]",
      "text/plain": [
       "<Figure size 432x288 with 1 Axes>"
      ]
     },
     "metadata": {},
     "output_type": "display_data"
    }
   ],
   "source": [
    "# DIAGRAMA DE SECTORES\n",
    "colores = {'red', 'blue', 'orange', 'green', 'cyan'}\n",
    "plt.pie(frecuencia, labels=estudios, colors=colores, autopct='%1.2f%%')\n",
    "plt.title('Diagrama de sectores')\n",
    "plt.show()"
   ]
  },
  {
   "cell_type": "code",
   "execution_count": null,
   "metadata": {},
   "outputs": [],
   "source": []
  }
 ],
 "metadata": {
  "kernelspec": {
   "display_name": "Python 3 (ipykernel)",
   "language": "python",
   "name": "python3"
  },
  "language_info": {
   "codemirror_mode": {
    "name": "ipython",
    "version": 3
   },
   "file_extension": ".py",
   "mimetype": "text/x-python",
   "name": "python",
   "nbconvert_exporter": "python",
   "pygments_lexer": "ipython3",
   "version": "3.8.8"
  }
 },
 "nbformat": 4,
 "nbformat_minor": 4
}
